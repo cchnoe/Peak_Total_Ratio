{
 "cells": [
  {
   "cell_type": "code",
   "execution_count": 1,
   "id": "cc1b1a0e-6cc6-461d-9d09-3a62d575da98",
   "metadata": {},
   "outputs": [],
   "source": [
    "from transform_rpt import read_rpt, n_corte, rpt_to_csv\n",
    "from peak_total_ratio import sorted_data\n",
    "import pandas as pd \n",
    "import os"
   ]
  },
  {
   "cell_type": "code",
   "execution_count": 2,
   "id": "c572a609-2bfd-4ac4-88d4-3946efdeaddc",
   "metadata": {},
   "outputs": [],
   "source": [
    "data, name = read_rpt()"
   ]
  },
  {
   "cell_type": "code",
   "execution_count": 3,
   "id": "6f4b3a36-1f73-483d-be8a-38f7db3513f6",
   "metadata": {
    "tags": []
   },
   "outputs": [],
   "source": [
    "n_data = n_corte(name)"
   ]
  },
  {
   "cell_type": "code",
   "execution_count": 4,
   "id": "bf1078dc-92ec-46e5-aa9a-8833ab0c9d0c",
   "metadata": {},
   "outputs": [
    {
     "name": "stderr",
     "output_type": "stream",
     "text": [
      "100%|██████████████████████| 52/52 [00:06<00:00,  7.60it/s]\n"
     ]
    }
   ],
   "source": [
    "dic_df = rpt_to_csv(data, n_data)"
   ]
  },
  {
   "cell_type": "code",
   "execution_count": 5,
   "id": "1069fb67-9941-456e-af01-c8a01e9b2330",
   "metadata": {},
   "outputs": [],
   "source": [
    "dict_data = sorted_data()"
   ]
  },
  {
   "cell_type": "code",
   "execution_count": 6,
   "id": "4890f90d-21f4-453b-9726-dfdf83003018",
   "metadata": {},
   "outputs": [],
   "source": [
    "dict_kev = {'dy':94,\n",
    "            'co':58,\n",
    "            'tc':140,\n",
    "            'ce':145,\n",
    "            'cr':320,\n",
    "            'au':411,\n",
    "            #'cs':661,\n",
    "            #'rb':1076,\n",
    "            'zn':1115,\n",
    "            #'pr':1576\n",
    "           }"
   ]
  },
  {
   "cell_type": "code",
   "execution_count": 7,
   "id": "f0695447-713b-474b-8580-e960a865f600",
   "metadata": {},
   "outputs": [
    {
     "data": {
      "text/plain": [
       "dict_keys(['g_185p', 'g_50p', 'q_100p', 'q_30p', 't_185p', 't_50p'])"
      ]
     },
     "execution_count": 7,
     "metadata": {},
     "output_type": "execute_result"
    }
   ],
   "source": [
    "dict_data.keys()"
   ]
  },
  {
   "cell_type": "code",
   "execution_count": 8,
   "id": "57ff2e66-6289-4c26-84b0-4b7c5101c185",
   "metadata": {},
   "outputs": [],
   "source": [
    "def myFunc(df):\n",
    "    return df['year']"
   ]
  },
  {
   "cell_type": "code",
   "execution_count": 9,
   "id": "df90a0c0-5e46-4833-95ed-dab43388eee9",
   "metadata": {},
   "outputs": [
    {
     "data": {
      "text/html": [
       "<div>\n",
       "<style scoped>\n",
       "    .dataframe tbody tr th:only-of-type {\n",
       "        vertical-align: middle;\n",
       "    }\n",
       "\n",
       "    .dataframe tbody tr th {\n",
       "        vertical-align: top;\n",
       "    }\n",
       "\n",
       "    .dataframe thead th {\n",
       "        text-align: right;\n",
       "    }\n",
       "</style>\n",
       "<table border=\"1\" class=\"dataframe\">\n",
       "  <thead>\n",
       "    <tr style=\"text-align: right;\">\n",
       "      <th></th>\n",
       "      <th>Energy (Kev)</th>\n",
       "      <th>Peak Net Area</th>\n",
       "      <th>End_Roi</th>\n",
       "      <th>continum_count</th>\n",
       "    </tr>\n",
       "    <tr>\n",
       "      <th>n_peak</th>\n",
       "      <th></th>\n",
       "      <th></th>\n",
       "      <th></th>\n",
       "      <th></th>\n",
       "    </tr>\n",
       "  </thead>\n",
       "  <tbody>\n",
       "    <tr>\n",
       "      <th>1</th>\n",
       "      <td>14</td>\n",
       "      <td>728.0</td>\n",
       "      <td>23</td>\n",
       "      <td>283.00</td>\n",
       "    </tr>\n",
       "    <tr>\n",
       "      <th>2</th>\n",
       "      <td>58</td>\n",
       "      <td>58400.0</td>\n",
       "      <td>110</td>\n",
       "      <td>9090.00</td>\n",
       "    </tr>\n",
       "    <tr>\n",
       "      <th>3</th>\n",
       "      <td>510</td>\n",
       "      <td>143.0</td>\n",
       "      <td>1005</td>\n",
       "      <td>202.00</td>\n",
       "    </tr>\n",
       "    <tr>\n",
       "      <th>4</th>\n",
       "      <td>825</td>\n",
       "      <td>307.0</td>\n",
       "      <td>1620</td>\n",
       "      <td>330.00</td>\n",
       "    </tr>\n",
       "    <tr>\n",
       "      <th>5</th>\n",
       "      <td>846</td>\n",
       "      <td>132.0</td>\n",
       "      <td>1659</td>\n",
       "      <td>184.00</td>\n",
       "    </tr>\n",
       "    <tr>\n",
       "      <th>6</th>\n",
       "      <td>1173</td>\n",
       "      <td>150.0</td>\n",
       "      <td>2293</td>\n",
       "      <td>189.00</td>\n",
       "    </tr>\n",
       "    <tr>\n",
       "      <th>7</th>\n",
       "      <td>1333</td>\n",
       "      <td>10900.0</td>\n",
       "      <td>2615</td>\n",
       "      <td>182.00</td>\n",
       "    </tr>\n",
       "    <tr>\n",
       "      <th>8</th>\n",
       "      <td>1369</td>\n",
       "      <td>123.0</td>\n",
       "      <td>2677</td>\n",
       "      <td>45.90</td>\n",
       "    </tr>\n",
       "    <tr>\n",
       "      <th>9</th>\n",
       "      <td>1644</td>\n",
       "      <td>128.0</td>\n",
       "      <td>3213</td>\n",
       "      <td>5.81</td>\n",
       "    </tr>\n",
       "  </tbody>\n",
       "</table>\n",
       "</div>"
      ],
      "text/plain": [
       "        Energy (Kev)  Peak Net Area  End_Roi  continum_count\n",
       "n_peak                                                      \n",
       "1                 14          728.0       23          283.00\n",
       "2                 58        58400.0      110         9090.00\n",
       "3                510          143.0     1005          202.00\n",
       "4                825          307.0     1620          330.00\n",
       "5                846          132.0     1659          184.00\n",
       "6               1173          150.0     2293          189.00\n",
       "7               1333        10900.0     2615          182.00\n",
       "8               1369          123.0     2677           45.90\n",
       "9               1644          128.0     3213            5.81"
      ]
     },
     "execution_count": 9,
     "metadata": {},
     "output_type": "execute_result"
    }
   ],
   "source": [
    "dict_data['t_185p']['tco_185p.RPT.csv']"
   ]
  },
  {
   "cell_type": "code",
   "execution_count": 10,
   "id": "9911880d-99bf-44b5-b2bc-141bffae4b1c",
   "metadata": {},
   "outputs": [
    {
     "data": {
      "text/plain": [
       "49020.0"
      ]
     },
     "execution_count": 10,
     "metadata": {},
     "output_type": "execute_result"
    }
   ],
   "source": [
    "dict_data['q_100p']['qcr_100p.RPT.csv']['continum_count'][0:8].sum()"
   ]
  },
  {
   "cell_type": "code",
   "execution_count": 11,
   "id": "f72d5919-dee1-4392-ab6c-65e491681d6d",
   "metadata": {},
   "outputs": [
    {
     "ename": "SyntaxError",
     "evalue": "invalid syntax (3763603858.py, line 25)",
     "output_type": "error",
     "traceback": [
      "\u001b[0;36m  File \u001b[0;32m\"/tmp/ipykernel_248/3763603858.py\"\u001b[0;36m, line \u001b[0;32m25\u001b[0m\n\u001b[0;31m    nuclid.append(key_   j[1:3])\u001b[0m\n\u001b[0m                         ^\u001b[0m\n\u001b[0;31mSyntaxError\u001b[0m\u001b[0;31m:\u001b[0m invalid syntax\n"
     ]
    }
   ],
   "source": [
    "columns = ['Detector','Archivo', 'Nuclid', 'Energia', 'Count Peak','Integral Total','Interferencia' ,'Coptom', 'Integral Total Corregido',\n",
    "           'Time File', 'End Roi', 'Count bk total', 'Time fondo', 'Correccion', 'Count total real', 'P_T']\n",
    "df_data = pd.DataFrame(columns=columns)\n",
    "detector = []\n",
    "archivo = []\n",
    "energía = []\n",
    "nuclid = []\n",
    "count_peak = []\n",
    "count_total = []\n",
    "count_total_bk = []\n",
    "end_roi= []\n",
    "count_c = []\n",
    "for key_i in dict_data.keys():\n",
    "    for key_j in dict_data[key_i].keys():\n",
    "        for i in range(1,len(dict_data[key_i][key_j])+1):\n",
    "            for kev in dict_kev.keys():\n",
    "                if key_j[1:3] == kev:\n",
    "                    e_kev = dict_kev[kev]\n",
    "                    if (dict_data[key_i][key_j]['Energy (Kev)'][i] <= int(dict_kev[kev]) + 2.5) and  (dict_data[key_i][key_j]['Energy (Kev)'][i] >= dict_kev[kev] -2.5):\n",
    "                        detector.append(key_i)\n",
    "                        archivo.append(key_j)\n",
    "                        energía.append(dict_data[key_i][key_j]['Energy (Kev)'][i])\n",
    "                        count_peak.append(dict_data[key_i][key_j]['Peak Net Area'][i])\n",
    "                        count_total.append(dict_data[key_i][key_j]['Peak Net Area'].sum())\n",
    "                        nuclid.append(key_   j[1:3])\n",
    "                        end_roi.append(dict_data[key_i][key_j]['End_Roi'][i])\n",
    "                        count_c.append(dict_data[key_i][key_j]['continum_count'][0:i].sum())\n",
    "                    else:\n",
    "                        pass\n",
    "                else:\n",
    "                    pass                        \n",
    "df_data['Detector'] = detector\n",
    "df_data['Archivo'] = archivo\n",
    "df_data['Nuclid'] = nuclid\n",
    "df_data['Energia'] = energía\n",
    "df_data['Count Peak'] = count_peak\n",
    "df_data['End Roi'] = end_roi\n",
    "df_data['Coptom'] = count_c\n",
    "df_data['Integral Total']=count_total\n",
    "                  \n",
    "                \n",
    "                                         #'Energía:',energy, \n",
    "                                                  #'Suma Peak: ', int(dict_data[key_i][key_j]['Peak Net Area'][i])}\n",
    "  \n"
   ]
  },
  {
   "cell_type": "code",
   "execution_count": null,
   "id": "e1f655f2-18e2-4b80-ac23-8d6e4d59a79c",
   "metadata": {},
   "outputs": [],
   "source": [
    "df_data.to_csv('data_peak_total.csv')\n",
    "df_data.to_csv('/mnt/g/Mi unidad/IPEN/peak to total ratio/data_P_T.csv')"
   ]
  },
  {
   "cell_type": "code",
   "execution_count": null,
   "id": "fff8246f-1524-47a6-b471-4b613dbb652a",
   "metadata": {},
   "outputs": [],
   "source": []
  },
  {
   "cell_type": "code",
   "execution_count": null,
   "id": "9f59e01d-5392-459e-81c0-8c35143d5894",
   "metadata": {},
   "outputs": [],
   "source": []
  },
  {
   "cell_type": "code",
   "execution_count": null,
   "id": "4c0c5882-4853-4a60-a61d-f0401f1093a2",
   "metadata": {},
   "outputs": [],
   "source": []
  },
  {
   "cell_type": "code",
   "execution_count": null,
   "id": "078e98ae-0472-47cb-bb9b-6de6370503c4",
   "metadata": {},
   "outputs": [],
   "source": []
  }
 ],
 "metadata": {
  "kernelspec": {
   "display_name": "Python 3 (ipykernel)",
   "language": "python",
   "name": "python3"
  },
  "language_info": {
   "codemirror_mode": {
    "name": "ipython",
    "version": 3
   },
   "file_extension": ".py",
   "mimetype": "text/x-python",
   "name": "python",
   "nbconvert_exporter": "python",
   "pygments_lexer": "ipython3",
   "version": "3.8.10"
  }
 },
 "nbformat": 4,
 "nbformat_minor": 5
}
