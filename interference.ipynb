{
 "cells": [
  {
   "cell_type": "code",
   "execution_count": 1,
   "id": "fa7eef45-1812-4330-837b-1f65f41ac24d",
   "metadata": {},
   "outputs": [],
   "source": [
    "from transform_rpt import read_rpt, n_corte, rpt_to_csv\n",
    "from peak_total_ratio import sorted_data\n",
    "import pandas as pd \n",
    "import os"
   ]
  },
  {
   "cell_type": "code",
   "execution_count": 2,
   "id": "8fb28511-a751-4ad3-b2a3-41d050365ff2",
   "metadata": {},
   "outputs": [],
   "source": [
    "data, name = read_rpt()\n",
    "n_data = n_corte(name)"
   ]
  },
  {
   "cell_type": "code",
   "execution_count": 3,
   "id": "56df2acf-fdb1-4eae-80ca-d4c6d14aa69f",
   "metadata": {},
   "outputs": [
    {
     "name": "stderr",
     "output_type": "stream",
     "text": [
      "100%|██████████████████████| 52/52 [00:06<00:00,  7.92it/s]\n"
     ]
    }
   ],
   "source": [
    "dict_df = rpt_to_csv(data, n_data)"
   ]
  },
  {
   "cell_type": "code",
   "execution_count": 4,
   "id": "4efa2c04-7ad8-4369-9d81-487f92213ee5",
   "metadata": {},
   "outputs": [
    {
     "data": {
      "text/plain": [
       "dict_keys(['tcr_50p.RPT', 'tdy_185p.RPT', 'ttc_185p.RPT', 'gco_185p.RPT', 'tzn_185p.RPT', 'tzn_50p.RPT', 'qdy_100p.RPT', 'tco_185p.RPT', 'qau_30p.RPT', 'qdy_30p.RPT', 'gtc_50p.RPT', 'qcr_100p.RPT', 'tcr_185p.RPT', 'qco_30p.RPT', 'qbk_100p.RPT', 'qam_100p.RPT', 'gzn_185p.RPT', 'qce_30p.RPT', 'gzn_50p.RPT', 'qpr_100p.RPT', 'tpr_185p.RPT', 'qam_30p.RPT', 'gpr_185p.RPT', 'gcr_50p.RPT', 'qco_100p.RPT', 'qcs_30p.RPT', 'gco_50p.RPT', 'qrb_100p.RPT', 'qcs_100p.RPT', 'qcr_30p.RPT', 'gpr_50p.RPT', 'qpr_30p.RPT', 'ttc_50p.RPT', 'gau_50p.RPT', 'qtc_30p.RPT', 'tco_50p.RPT', 'gtc_185p.RPT', 'qzn_100p.RPT', 'gdy_50p.RPT', 'qtc_100p.RPT', 'tpr_50p.RPT', 'qau_100p.RPT', 'gau_185p.RPT', 'qce_100p.RPT', 'qzn_30p.RPT', 'qrb_30p.RPT', 'tdy_50p.RPT', 'gcr_185p.RPT', 'tau_50p.RPT', 'bl11_30p.RPT', 'gdy_185p.RPT', 'tau_185p.RPT'])"
      ]
     },
     "execution_count": 4,
     "metadata": {},
     "output_type": "execute_result"
    }
   ],
   "source": [
    "dict_df.keys()"
   ]
  },
  {
   "cell_type": "code",
   "execution_count": 5,
   "id": "b663d91f-dc3f-421d-b9aa-b82a079e0ae4",
   "metadata": {},
   "outputs": [],
   "source": [
    "quina100 = {'co': 0.538781634,\n",
    "            'dy': 0.365859995,\n",
    "            'tc': 0.640322738,\n",
    "            'cr': 0.351986588,\n",
    "            'au': 0.363887807,\n",
    "            'zn': 0.182717083}"
   ]
  },
  {
   "cell_type": "code",
   "execution_count": 6,
   "id": "a99edaa2-cb74-4955-bf3c-af5cde4eb7bf",
   "metadata": {},
   "outputs": [],
   "source": [
    "data_pt = {'quina100': quina100}"
   ]
  },
  {
   "cell_type": "code",
   "execution_count": 7,
   "id": "b55475b2-554a-420c-95a4-703700fe02df",
   "metadata": {},
   "outputs": [
    {
     "data": {
      "text/plain": [
       "{'quina100': {'co': 0.538781634,\n",
       "  'dy': 0.365859995,\n",
       "  'tc': 0.640322738,\n",
       "  'cr': 0.351986588,\n",
       "  'au': 0.363887807,\n",
       "  'zn': 0.182717083}}"
      ]
     },
     "execution_count": 7,
     "metadata": {},
     "output_type": "execute_result"
    }
   ],
   "source": [
    "data_pt"
   ]
  },
  {
   "cell_type": "code",
   "execution_count": 8,
   "id": "351b525b-5614-4d6e-9729-89772c33e1c7",
   "metadata": {},
   "outputs": [],
   "source": [
    "co = [82.6,1332.5,1173.2,2158.7]\n",
    "dy = [47.5, 53.8, 55.3, 259.6, 279.6, 361.6, 405.2, \n",
    "      425.9, 456.0, 479.6, 515.4, 545.8, 565.6, 575.5, \n",
    "      620.6, 633.4, 660.0, 694.1, 715.3, 725.4, 995.0, 1055.7, 1092.2]\n",
    "tc = [0]\n",
    "cr = [0]\n",
    "au = [68.8, 70.8, 80.2, 82.5, 675.8, 1087.6]\n",
    "zn = [344.0, 511.0, 771.0]\n",
    "inf_data = {'co':co, 'dy':dy, 'tc': tc, 'cr':cr, 'au':au, 'zn':zn}"
   ]
  },
  {
   "cell_type": "code",
   "execution_count": 9,
   "id": "a0dad1c1-dabd-4178-89bc-19f13a954884",
   "metadata": {},
   "outputs": [
    {
     "data": {
      "text/plain": [
       "[82.6, 1332.5, 1173.2, 2158.7]"
      ]
     },
     "execution_count": 9,
     "metadata": {},
     "output_type": "execute_result"
    }
   ],
   "source": [
    "inf_data['co']"
   ]
  },
  {
   "cell_type": "code",
   "execution_count": 10,
   "id": "46d68afc-caab-4136-b22c-f05715362346",
   "metadata": {},
   "outputs": [],
   "source": [
    "def iterador(peak,pt):\n",
    "    bk = peak*((1/pt)-1)\n",
    "    return bk"
   ]
  },
  {
   "cell_type": "code",
   "execution_count": 15,
   "id": "fe57d477-0971-40d4-90d8-2aa8f4110411",
   "metadata": {},
   "outputs": [],
   "source": [
    "#dict_df[\"qdy_100p.RPT\"][\"Peak Net Area\"]"
   ]
  },
  {
   "cell_type": "code",
   "execution_count": 16,
   "id": "ce63e720-bd3b-4f53-b58d-8f1d65ece705",
   "metadata": {},
   "outputs": [],
   "source": [
    "qdy_100p = dict_df[\"qdy_100p.RPT\"]"
   ]
  },
  {
   "cell_type": "code",
   "execution_count": 17,
   "id": "291d857a-6cde-43d8-9b2a-0de8eea34f71",
   "metadata": {},
   "outputs": [
    {
     "name": "stdout",
     "output_type": "stream",
     "text": [
      "145000.0\n",
      "0.333579702123714\n",
      "195600.0\n",
      "0.27850356049017905\n",
      "209900.0\n",
      "0.2618772353319177\n",
      "210653.0\n",
      "0.25616994200573284\n",
      "237553.0\n",
      "0.26741865625585337\n",
      "275253.0\n",
      "0.2723585501060302\n",
      "275700.0\n",
      "0.25604389713686865\n",
      "277250.0\n",
      "0.256498818630062\n",
      "278890.0\n",
      "0.2565360095875239\n",
      "279950.0\n",
      "0.2562965235548645\n",
      "285070.0\n",
      "0.25798237745586694\n",
      "289080.0\n",
      "0.25751926773854444\n",
      "291490.0\n",
      "0.256854640290517\n",
      "294140.0\n",
      "0.25695411561888193\n",
      "310540.0\n",
      "0.2627848017793881\n",
      "311279.0\n",
      "0.25616417253811924\n",
      "311596.0\n",
      "0.2559903861966097\n",
      "325796.0\n",
      "0.2618341742217448\n",
      "326168.0\n",
      "0.2560130227106676\n",
      "326787.0\n",
      "0.2561147306169108\n"
     ]
    }
   ],
   "source": [
    "name_data = \"qdy_100p.RPT\"\n",
    "suma = 0\n",
    "for i in range(0,len(dict_df[name_data])):\n",
    "    for file in data_pt.keys():\n",
    "        data_pt[file]\n",
    "        for nuclid in data_pt[file].keys():\n",
    "            if name_data[1:3] == nuclid:\n",
    "                for inf in inf_data[nuclid]:\n",
    "                    pt = data_pt[file][nuclid]\n",
    "                    area = 276000\n",
    "                    fondo = 1078714.941\n",
    "                    if inf - dict_df[name_data][\"Energy (Kev)\"][i] > -1 and inf - dict_df[name_data][\"Energy (Kev)\"][i] < 1 or  inf - dict_df[name_data][\"Energy (Kev)\"][i] == 0:  \n",
    "                        peak = dict_df[name_data][\"Peak Net Area\"][i]\n",
    "                        suma = suma + peak\n",
    "                        bk = peak*((1/pt)-1)\n",
    "                        fondo = fondo - bk \n",
    "                        pt = area/fondo\n",
    "                        print(suma)\n",
    "                        print(pt)\n",
    "                    else:\n",
    "                        pass\n",
    "            else:\n",
    "                pass\n",
    "            "
   ]
  },
  {
   "cell_type": "code",
   "execution_count": null,
   "id": "a959ccf2-b7ab-4f57-bac3-7992d9b32dc6",
   "metadata": {},
   "outputs": [],
   "source": []
  },
  {
   "cell_type": "code",
   "execution_count": null,
   "id": "45553d94-c811-4706-8ab3-869bde555097",
   "metadata": {},
   "outputs": [],
   "source": []
  }
 ],
 "metadata": {
  "kernelspec": {
   "display_name": "Python 3 (ipykernel)",
   "language": "python",
   "name": "python3"
  },
  "language_info": {
   "codemirror_mode": {
    "name": "ipython",
    "version": 3
   },
   "file_extension": ".py",
   "mimetype": "text/x-python",
   "name": "python",
   "nbconvert_exporter": "python",
   "pygments_lexer": "ipython3",
   "version": "3.8.10"
  }
 },
 "nbformat": 4,
 "nbformat_minor": 5
}
